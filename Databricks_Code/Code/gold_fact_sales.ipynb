{
 "cells": [
  {
   "cell_type": "code",
   "execution_count": 0,
   "metadata": {
    "application/vnd.databricks.v1+cell": {
     "cellMetadata": {
      "byteLimit": 2048000,
      "rowLimit": 10000
     },
     "inputWidgets": {},
     "nuid": "f23c1b05-6732-4cd5-83bb-bc5857d9ad1d",
     "showTitle": false,
     "tableResultSettingsMap": {},
     "title": ""
    }
   },
   "outputs": [],
   "source": [
    "df_silver = spark.read.format('parquet')\\\n",
    "                  .option('inferSchema',True)\\\n",
    "                  .load('abfss://silver@saprojectyt.dfs.core.windows.net/carsales/sales.parquet')\n",
    "\n",
    "df_silver.display()"
   ]
  },
  {
   "cell_type": "code",
   "execution_count": 0,
   "metadata": {
    "application/vnd.databricks.v1+cell": {
     "cellMetadata": {
      "byteLimit": 2048000,
      "rowLimit": 10000
     },
     "inputWidgets": {},
     "nuid": "d5bef502-c66b-4bcd-8752-3c22dd81ce3c",
     "showTitle": false,
     "tableResultSettingsMap": {},
     "title": ""
    }
   },
   "outputs": [],
   "source": [
    "df_dealer = spark.sql('SELECT * FROM youtube_project.gold.dim_dealer')\n",
    "df_model = spark.sql('SELECT * FROM youtube_project.gold.dim_model')\n",
    "df_branch = spark.sql('SELECT * FROM youtube_project.gold.dim_branch')\n",
    "df_date = spark.sql('SELECT * FROM youtube_project.gold.dim_date')"
   ]
  },
  {
   "cell_type": "code",
   "execution_count": 0,
   "metadata": {
    "application/vnd.databricks.v1+cell": {
     "cellMetadata": {
      "byteLimit": 2048000,
      "rowLimit": 10000
     },
     "inputWidgets": {},
     "nuid": "c916d063-0c91-4010-b370-630859e86037",
     "showTitle": false,
     "tableResultSettingsMap": {},
     "title": ""
    }
   },
   "outputs": [],
   "source": [
    "df_fact = df_silver.join(df_branch,df_branch['Branch_ID'] == df_silver['Branch_ID'],how='left')\\\n",
    "                   .join(df_dealer,df_dealer['Dealer_ID'] == df_silver['Dealer_ID'],how='left')\\\n",
    "                   .join(df_model,df_model['Model_ID'] == df_silver['Model_ID'],how='left')\\\n",
    "                   .join(df_date,df_date['Date_ID'] == df_silver['Date_ID'],how='left')\\\n",
    "                   .select(df_silver['Revenue'],df_silver['Units_Sold'],df_silver['Revenue_perUnit'],df_branch['dim_branch_key'],df_dealer['dim_dealer_key'],df_model['dim_model_key'],df_date['dim_date_key']).where(df_date['dim_date_key'].isNotNull())"
   ]
  },
  {
   "cell_type": "code",
   "execution_count": 0,
   "metadata": {
    "application/vnd.databricks.v1+cell": {
     "cellMetadata": {
      "byteLimit": 2048000,
      "rowLimit": 10000
     },
     "inputWidgets": {},
     "nuid": "bbe6a363-aead-428d-99dc-7b99b21d8dbc",
     "showTitle": false,
     "tableResultSettingsMap": {},
     "title": ""
    }
   },
   "outputs": [],
   "source": [
    "df_fact.display()"
   ]
  },
  {
   "cell_type": "code",
   "execution_count": 0,
   "metadata": {
    "application/vnd.databricks.v1+cell": {
     "cellMetadata": {
      "byteLimit": 2048000,
      "rowLimit": 10000
     },
     "inputWidgets": {},
     "nuid": "08f0e7a6-a07a-47bb-bbce-0d7888126fce",
     "showTitle": false,
     "tableResultSettingsMap": {},
     "title": ""
    }
   },
   "outputs": [],
   "source": [
    "from delta.tables import DeltaTable"
   ]
  },
  {
   "cell_type": "code",
   "execution_count": 0,
   "metadata": {
    "application/vnd.databricks.v1+cell": {
     "cellMetadata": {
      "byteLimit": 2048000,
      "rowLimit": 10000
     },
     "inputWidgets": {},
     "nuid": "e66734af-0fdc-48d2-a406-bfccfbb7b543",
     "showTitle": false,
     "tableResultSettingsMap": {},
     "title": ""
    }
   },
   "outputs": [],
   "source": [
    "if spark.catalog.tableExists('youtube_project.gold.factSales'):\n",
    "    deltaTable = DeltaTable.forName(spark,'youtube_project.gold.factSales')\n",
    "\n",
    "    deltaTable.alias('trg').merge(df_fact.alias('src'),'trg.dim_branch_key = src.dim_branch_key AND trg.dim_dealer_key = src.dim_dealer_key AND trg.dim_model_key = src.dim_model_key AND trg.dim_date_key = src.dim_date_key')\\\n",
    "                .whenMatchedUpdateAll()\\\n",
    "                .whenNotMatchedInsertAll()\\\n",
    "                .execute()\n",
    "\n",
    "else:\n",
    "    df_fact.write.format('delta')\\\n",
    "                .mode('Overwrite')\\\n",
    "                .option('path','abfss://gold@saprojectyt.dfs.core.windows.net/factSales')\\\n",
    "                .saveAsTable('youtube_project.gold.factSales')    "
   ]
  },
  {
   "cell_type": "code",
   "execution_count": 0,
   "metadata": {
    "application/vnd.databricks.v1+cell": {
     "cellMetadata": {
      "byteLimit": 2048000,
      "implicitDf": true,
      "rowLimit": 10000
     },
     "inputWidgets": {},
     "nuid": "1d2f9f5b-8473-4a05-a5ab-a14273f8d2a0",
     "showTitle": false,
     "tableResultSettingsMap": {},
     "title": ""
    }
   },
   "outputs": [],
   "source": [
    "%sql\n",
    "SELECT * FROM youtube_project.gold.factsales"
   ]
  },
  {
   "cell_type": "code",
   "execution_count": 0,
   "metadata": {
    "application/vnd.databricks.v1+cell": {
     "cellMetadata": {
      "byteLimit": 2048000,
      "rowLimit": 10000
     },
     "inputWidgets": {},
     "nuid": "c33a5c0a-631e-45f0-b9e2-9a3be1b2462e",
     "showTitle": false,
     "tableResultSettingsMap": {},
     "title": ""
    }
   },
   "outputs": [],
   "source": []
  }
 ],
 "metadata": {
  "application/vnd.databricks.v1+notebook": {
   "computePreferences": null,
   "dashboards": [],
   "environmentMetadata": {
    "base_environment": "",
    "environment_version": "2"
   },
   "inputWidgetPreferences": null,
   "language": "python",
   "notebookMetadata": {
    "mostRecentlyExecutedCommandWithImplicitDF": {
     "commandId": 6512496444172400,
     "dataframes": [
      "_sqldf"
     ]
    },
    "pythonIndentUnit": 4
   },
   "notebookName": "gold_fact_sales",
   "widgets": {}
  },
  "language_info": {
   "name": "python"
  }
 },
 "nbformat": 4,
 "nbformat_minor": 0
}
